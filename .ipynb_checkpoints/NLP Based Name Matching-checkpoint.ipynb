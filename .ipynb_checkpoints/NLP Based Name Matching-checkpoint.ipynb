{
 "cells": [
  {
   "cell_type": "markdown",
   "metadata": {},
   "source": [
    "### Data Collection : Source - Kaggle \n",
    "#### Context\n",
    "All companies in the SEC EDGAR database. Companies are listed with company name and their unique CIK key. Data-set had 663000 companies listed, which includes all companies in the EDGAR database."
   ]
  },
  {
   "cell_type": "markdown",
   "metadata": {},
   "source": [
    "#### Import libraries"
   ]
  },
  {
   "cell_type": "code",
   "execution_count": 73,
   "metadata": {},
   "outputs": [],
   "source": [
    "import pandas as pd\n",
    "import numpy as np\n",
    "from scipy.sparse import csr_matrix\n",
    "import sparse_dot_topn.sparse_dot_topn as ct\n",
    "import matplotlib.pyplot as plt\n",
    "import re\n",
    "from sklearn.feature_extraction.text import TfidfVectorizer\n",
    "import time"
   ]
  },
  {
   "cell_type": "code",
   "execution_count": 2,
   "metadata": {},
   "outputs": [],
   "source": [
    "df = pd.read_csv(\"data/sec__edgar_company_info.csv\")"
   ]
  },
  {
   "cell_type": "code",
   "execution_count": 3,
   "metadata": {
    "scrolled": true
   },
   "outputs": [
    {
     "name": "stdout",
     "output_type": "stream",
     "text": [
      "(663000, 3)\n"
     ]
    },
    {
     "data": {
      "text/html": [
       "<div>\n",
       "<style scoped>\n",
       "    .dataframe tbody tr th:only-of-type {\n",
       "        vertical-align: middle;\n",
       "    }\n",
       "\n",
       "    .dataframe tbody tr th {\n",
       "        vertical-align: top;\n",
       "    }\n",
       "\n",
       "    .dataframe thead th {\n",
       "        text-align: right;\n",
       "    }\n",
       "</style>\n",
       "<table border=\"1\" class=\"dataframe\">\n",
       "  <thead>\n",
       "    <tr style=\"text-align: right;\">\n",
       "      <th></th>\n",
       "      <th>Line Number</th>\n",
       "      <th>Company Name</th>\n",
       "      <th>Company CIK Key</th>\n",
       "    </tr>\n",
       "  </thead>\n",
       "  <tbody>\n",
       "    <tr>\n",
       "      <th>0</th>\n",
       "      <td>1</td>\n",
       "      <td>!J INC</td>\n",
       "      <td>1438823</td>\n",
       "    </tr>\n",
       "    <tr>\n",
       "      <th>1</th>\n",
       "      <td>2</td>\n",
       "      <td>#1 A LIFESAFER HOLDINGS, INC.</td>\n",
       "      <td>1509607</td>\n",
       "    </tr>\n",
       "    <tr>\n",
       "      <th>2</th>\n",
       "      <td>3</td>\n",
       "      <td>#1 ARIZONA DISCOUNT PROPERTIES LLC</td>\n",
       "      <td>1457512</td>\n",
       "    </tr>\n",
       "    <tr>\n",
       "      <th>3</th>\n",
       "      <td>4</td>\n",
       "      <td>#1 PAINTBALL CORP</td>\n",
       "      <td>1433777</td>\n",
       "    </tr>\n",
       "    <tr>\n",
       "      <th>4</th>\n",
       "      <td>5</td>\n",
       "      <td>$ LLC</td>\n",
       "      <td>1427189</td>\n",
       "    </tr>\n",
       "  </tbody>\n",
       "</table>\n",
       "</div>"
      ],
      "text/plain": [
       "   Line Number                        Company Name  Company CIK Key\n",
       "0            1                              !J INC          1438823\n",
       "1            2       #1 A LIFESAFER HOLDINGS, INC.          1509607\n",
       "2            3  #1 ARIZONA DISCOUNT PROPERTIES LLC          1457512\n",
       "3            4                   #1 PAINTBALL CORP          1433777\n",
       "4            5                               $ LLC          1427189"
      ]
     },
     "execution_count": 3,
     "metadata": {},
     "output_type": "execute_result"
    }
   ],
   "source": [
    "print(df.shape)\n",
    "df.head()"
   ]
  },
  {
   "cell_type": "markdown",
   "metadata": {},
   "source": [
    "The data has a lot special characters and starting with numbers. Let's perform some cleaning"
   ]
  },
  {
   "cell_type": "code",
   "execution_count": 59,
   "metadata": {},
   "outputs": [],
   "source": [
    "def cleannames(string):\n",
    "    string = string.lower()\n",
    "    string = string.replace('&', 'and')\n",
    "    string = string.replace(',', ' ')\n",
    "    string = string.replace('-', ' ')\n",
    "    string = re.sub('\\W+',' ', string ) # removing special characters\n",
    "    string = re.sub('\\d+',' ', string ) # removing numbers preceding the company names\n",
    "    string = string.title()\n",
    "    return string"
   ]
  },
  {
   "cell_type": "code",
   "execution_count": 60,
   "metadata": {},
   "outputs": [
    {
     "data": {
      "text/html": [
       "<div>\n",
       "<style scoped>\n",
       "    .dataframe tbody tr th:only-of-type {\n",
       "        vertical-align: middle;\n",
       "    }\n",
       "\n",
       "    .dataframe tbody tr th {\n",
       "        vertical-align: top;\n",
       "    }\n",
       "\n",
       "    .dataframe thead th {\n",
       "        text-align: right;\n",
       "    }\n",
       "</style>\n",
       "<table border=\"1\" class=\"dataframe\">\n",
       "  <thead>\n",
       "    <tr style=\"text-align: right;\">\n",
       "      <th></th>\n",
       "      <th>Line Number</th>\n",
       "      <th>Company Name</th>\n",
       "      <th>Company CIK Key</th>\n",
       "      <th>Cleaned Company Name</th>\n",
       "    </tr>\n",
       "  </thead>\n",
       "  <tbody>\n",
       "    <tr>\n",
       "      <th>0</th>\n",
       "      <td>1</td>\n",
       "      <td>!J INC</td>\n",
       "      <td>1438823</td>\n",
       "      <td>J Inc</td>\n",
       "    </tr>\n",
       "    <tr>\n",
       "      <th>1</th>\n",
       "      <td>2</td>\n",
       "      <td>#1 A LIFESAFER HOLDINGS, INC.</td>\n",
       "      <td>1509607</td>\n",
       "      <td>A Lifesafer Holdings Inc</td>\n",
       "    </tr>\n",
       "    <tr>\n",
       "      <th>2</th>\n",
       "      <td>3</td>\n",
       "      <td>#1 ARIZONA DISCOUNT PROPERTIES LLC</td>\n",
       "      <td>1457512</td>\n",
       "      <td>Arizona Discount Properties Llc</td>\n",
       "    </tr>\n",
       "    <tr>\n",
       "      <th>3</th>\n",
       "      <td>4</td>\n",
       "      <td>#1 PAINTBALL CORP</td>\n",
       "      <td>1433777</td>\n",
       "      <td>Paintball Corp</td>\n",
       "    </tr>\n",
       "    <tr>\n",
       "      <th>4</th>\n",
       "      <td>5</td>\n",
       "      <td>$ LLC</td>\n",
       "      <td>1427189</td>\n",
       "      <td>Llc</td>\n",
       "    </tr>\n",
       "  </tbody>\n",
       "</table>\n",
       "</div>"
      ],
      "text/plain": [
       "   Line Number                        Company Name  Company CIK Key  \\\n",
       "0            1                              !J INC          1438823   \n",
       "1            2       #1 A LIFESAFER HOLDINGS, INC.          1509607   \n",
       "2            3  #1 ARIZONA DISCOUNT PROPERTIES LLC          1457512   \n",
       "3            4                   #1 PAINTBALL CORP          1433777   \n",
       "4            5                               $ LLC          1427189   \n",
       "\n",
       "                 Cleaned Company Name  \n",
       "0                               J Inc  \n",
       "1           A Lifesafer Holdings Inc   \n",
       "2     Arizona Discount Properties Llc  \n",
       "3                      Paintball Corp  \n",
       "4                                 Llc  "
      ]
     },
     "execution_count": 60,
     "metadata": {},
     "output_type": "execute_result"
    }
   ],
   "source": [
    "# storing the cleaned names under 'Cleaned Company Name'\n",
    "df['Cleaned Company Name'] = df['Company Name'].apply(cleannames)\n",
    "df.head()"
   ]
  },
  {
   "cell_type": "code",
   "execution_count": 48,
   "metadata": {},
   "outputs": [
    {
     "data": {
      "text/html": [
       "<div>\n",
       "<style scoped>\n",
       "    .dataframe tbody tr th:only-of-type {\n",
       "        vertical-align: middle;\n",
       "    }\n",
       "\n",
       "    .dataframe tbody tr th {\n",
       "        vertical-align: top;\n",
       "    }\n",
       "\n",
       "    .dataframe thead th {\n",
       "        text-align: right;\n",
       "    }\n",
       "</style>\n",
       "<table border=\"1\" class=\"dataframe\">\n",
       "  <thead>\n",
       "    <tr style=\"text-align: right;\">\n",
       "      <th></th>\n",
       "      <th>Cleaned Company Name</th>\n",
       "    </tr>\n",
       "  </thead>\n",
       "  <tbody>\n",
       "    <tr>\n",
       "      <th>ft</th>\n",
       "      <td>6586</td>\n",
       "    </tr>\n",
       "    <tr>\n",
       "      <th>advisors disciplined trust</th>\n",
       "      <td>1790</td>\n",
       "    </tr>\n",
       "    <tr>\n",
       "      <th>guggenheim defined portfolios series</th>\n",
       "      <td>936</td>\n",
       "    </tr>\n",
       "    <tr>\n",
       "      <th>van kampen unit trusts series</th>\n",
       "      <td>878</td>\n",
       "    </tr>\n",
       "    <tr>\n",
       "      <th>van kampen unit trusts municipal series</th>\n",
       "      <td>674</td>\n",
       "    </tr>\n",
       "  </tbody>\n",
       "</table>\n",
       "</div>"
      ],
      "text/plain": [
       "                                           Cleaned Company Name\n",
       "ft                                                         6586\n",
       "advisors disciplined trust                                 1790\n",
       "guggenheim defined portfolios series                        936\n",
       "van kampen unit trusts series                               878\n",
       "van kampen unit trusts municipal series                     674"
      ]
     },
     "execution_count": 48,
     "metadata": {},
     "output_type": "execute_result"
    }
   ],
   "source": [
    "# checking aggregates\n",
    "df_aggregate = pd.DataFrame(df['Cleaned Company Name'].value_counts())\n",
    "df_aggregate.head()"
   ]
  },
  {
   "cell_type": "code",
   "execution_count": 49,
   "metadata": {
    "scrolled": true
   },
   "outputs": [
    {
     "data": {
      "text/plain": [
       "(array([6.17514e+05, 3.00000e+00, 1.00000e+00, 0.00000e+00, 0.00000e+00,\n",
       "        0.00000e+00, 0.00000e+00, 0.00000e+00, 0.00000e+00, 1.00000e+00]),\n",
       " array([1.0000e+00, 6.5950e+02, 1.3180e+03, 1.9765e+03, 2.6350e+03,\n",
       "        3.2935e+03, 3.9520e+03, 4.6105e+03, 5.2690e+03, 5.9275e+03,\n",
       "        6.5860e+03]),\n",
       " <BarContainer object of 10 artists>)"
      ]
     },
     "execution_count": 49,
     "metadata": {},
     "output_type": "execute_result"
    },
    {
     "data": {
      "image/png": "[encoded data removed]",
      "text/plain": [
       "<Figure size 432x288 with 1 Axes>"
      ]
     },
     "metadata": {
      "needs_background": "light"
     },
     "output_type": "display_data"
    }
   ],
   "source": [
    "plt.hist(x = df_aggregate['Cleaned Company Name'], bins = 10)"
   ]
  },
  {
   "cell_type": "markdown",
   "metadata": {},
   "source": [
    "## TF-IDF\n",
    "\n",
    "TF-IDF is a statistical measure that evaluates how relevant a word is to a document in a collection of documents. This is done by multiplying two metrics: how many times a word appears in a document, and the inverse document frequency of the word across a set of documents.\n",
    "\n",
    "- The term frequency of a word in a document. There are several ways of calculating this frequency, with the simplest being a raw count of instances a word appears in a document. Then, there are ways to adjust the frequency, by length of a document, or by the raw frequency of the most frequent word in a document.\n",
    "\n",
    "- The inverse document frequency of the word across a set of documents. This means, how common or rare a word is in the entire document set. The closer it is to 0, the more common a word is. This metric can be calculated by taking the total number of documents, dividing it by the number of documents that contain a word, and calculating the logarithm.\n",
    "\n",
    "- So, if the word is very common and appears in many documents, this number will approach 0. Otherwise, it will approach 1.\n",
    "\n",
    "- TF-IDF is very useful in text classification and text clustering. It is used to transform documents into numeric vectors, that can easily be compared.\n",
    "\n",
    "## N-gram\n",
    "\n",
    "While the terms in TF-IDF are usually words, this is not a necessity. In our case using words as terms wouldn’t help us much, as most company names only contain one or two words. This is why we will use n-grams: sequences of N contiguous items, in this case characters.\n"
   ]
  },
  {
   "cell_type": "code",
   "execution_count": 50,
   "metadata": {},
   "outputs": [],
   "source": [
    "def ngrams(string, n =3):\n",
    "    #string = string.lower()\n",
    "    #string = string.replace('&', 'and')\n",
    "    #string = string.replace(',', ' ')\n",
    "    #string = string.replace('-', ' ')\n",
    "    string = re.sub('\\W+','', string )\n",
    "    ngrams = zip(*[string[i:] for i in range(n)])\n",
    "    return[''.join(ngram) for ngram in ngrams]"
   ]
  },
  {
   "cell_type": "code",
   "execution_count": 51,
   "metadata": {},
   "outputs": [
    {
     "data": {
      "text/plain": [
       "['ALI',\n",
       " 'LIF',\n",
       " 'IFE',\n",
       " 'FES',\n",
       " 'ESA',\n",
       " 'SAF',\n",
       " 'AFE',\n",
       " 'FER',\n",
       " 'ERH',\n",
       " 'RHO',\n",
       " 'HOL',\n",
       " 'OLD',\n",
       " 'LDI',\n",
       " 'DIN',\n",
       " 'ING',\n",
       " 'NGS',\n",
       " 'GSI',\n",
       " 'SIN',\n",
       " 'INC']"
      ]
     },
     "execution_count": 51,
     "metadata": {},
     "output_type": "execute_result"
    }
   ],
   "source": [
    "ngrams('A LIFESAFER HOLDINGS, INC.', 3)"
   ]
  },
  {
   "cell_type": "code",
   "execution_count": 52,
   "metadata": {},
   "outputs": [],
   "source": [
    "company_names = df['Cleaned Company Name']\n",
    "Vectorizer = TfidfVectorizer(min_df = 1, analyzer = ngrams, use_idf=True)\n",
    "tf_idf_matrix = Vectorizer.fit_transform(company_names)"
   ]
  },
  {
   "cell_type": "code",
   "execution_count": 55,
   "metadata": {},
   "outputs": [
    {
     "name": "stdout",
     "output_type": "stream",
     "text": [
      "(663000, 15767)\n",
      "  (0, 5394)\t0.29733831507509334\n",
      "  (0, 5907)\t0.9547721855962837\n",
      "['jin', 'inc']\n"
     ]
    }
   ],
   "source": [
    "print(tf_idf_matrix.shape)\n",
    "print(tf_idf_matrix[0])\n",
    "print(ngrams('j inc'))"
   ]
  },
  {
   "cell_type": "code",
   "execution_count": 17,
   "metadata": {},
   "outputs": [
    {
     "data": {
      "text/plain": [
       "0                                      J Inc\n",
       "1                  A Lifesafer Holdings Inc \n",
       "2            Arizona Discount Properties Llc\n",
       "3                             Paintball Corp\n",
       "4                                        Llc\n",
       "                         ...                \n",
       "662995                         Zz Global Llc\n",
       "662996                 Zzif   Investment Llc\n",
       "662997       Zzll Information Technology Inc\n",
       "662998                               Zzx Llc\n",
       "662999                 Zzyzx Zzazx Zzozx Inc\n",
       "Name: Cleaned Company Name, Length: 663000, dtype: object"
      ]
     },
     "execution_count": 17,
     "metadata": {},
     "output_type": "execute_result"
    }
   ],
   "source": [
    "company_names"
   ]
  },
  {
   "cell_type": "markdown",
   "metadata": {},
   "source": [
    "## Cosine Similarity\n",
    "\n",
    "Cosine similarity measures the similarity between two vectors of an inner product space. It is measured by the cosine of the angle between two vectors and determines whether two vectors are pointing in roughly the same direction. It is often used to measure document similarity in text analysis."
   ]
  },
  {
   "cell_type": "code",
   "execution_count": 18,
   "metadata": {},
   "outputs": [],
   "source": [
    "# This function takes only the top N highest matches in each row, and only the similarities above an (optional) threshold.\n",
    "def awesome_cossim_top(A, B, ntop, lower_bound=0):\n",
    "    # force A and B as a CSR matrix.\n",
    "    # If they have already been CSR, there is no overhead\n",
    "    A = A.tocsr()\n",
    "    B = B.tocsr()\n",
    "    M, _ = A.shape\n",
    "    _, N = B.shape\n",
    " \n",
    "    idx_dtype = np.int32\n",
    " \n",
    "    nnz_max = M*ntop\n",
    " \n",
    "    indptr = np.zeros(M+1, dtype=idx_dtype)\n",
    "    indices = np.zeros(nnz_max, dtype=idx_dtype)\n",
    "    data = np.zeros(nnz_max, dtype=A.dtype)\n",
    "\n",
    "    ct.sparse_dot_topn(\n",
    "        M, N, np.asarray(A.indptr, dtype=idx_dtype),\n",
    "        np.asarray(A.indices, dtype=idx_dtype),\n",
    "        A.data,\n",
    "        np.asarray(B.indptr, dtype=idx_dtype),\n",
    "        np.asarray(B.indices, dtype=idx_dtype),\n",
    "        B.data,\n",
    "        ntop,\n",
    "        lower_bound,\n",
    "        indptr, indices, data)\n",
    "\n",
    "    return csr_matrix((data,indices,indptr),shape=(M,N))"
   ]
  },
  {
   "cell_type": "code",
   "execution_count": 27,
   "metadata": {},
   "outputs": [],
   "source": [
    "matches = awesome_cossim_top(tf_idf_matrix, tf_idf_matrix.transpose(), 10, 0.8)"
   ]
  },
  {
   "cell_type": "code",
   "execution_count": 42,
   "metadata": {},
   "outputs": [],
   "source": [
    "# unpacking the resulting sparse matrix\n",
    "\n",
    "def get_matches_df(sparse_matrix, name_vector, top=100):\n",
    "    non_zeros = sparse_matrix.nonzero()\n",
    "    \n",
    "    sparserows = non_zeros[0]\n",
    "    sparsecols = non_zeros[1]\n",
    "    \n",
    "    if top:\n",
    "        nr_matches = top\n",
    "    else:\n",
    "        nr_matches = sparsecols.size\n",
    "    \n",
    "    left_side = np.empty([nr_matches], dtype=object)\n",
    "    right_side = np.empty([nr_matches], dtype=object)\n",
    "    similairity = np.zeros(nr_matches)\n",
    "    \n",
    "    for index in range(0, nr_matches):\n",
    "        left_side[index] = name_vector[sparserows[index]]\n",
    "        right_side[index] = name_vector[sparsecols[index]]\n",
    "        similairity[index] = sparse_matrix.data[index]\n",
    "    \n",
    "    return pd.DataFrame({'left_side': left_side,\n",
    "                          'right_side': right_side,\n",
    "                           'similairity': similairity})"
   ]
  },
  {
   "cell_type": "code",
   "execution_count": 43,
   "metadata": {},
   "outputs": [
    {
     "data": {
      "text/html": [
       "<div>\n",
       "<style scoped>\n",
       "    .dataframe tbody tr th:only-of-type {\n",
       "        vertical-align: middle;\n",
       "    }\n",
       "\n",
       "    .dataframe tbody tr th {\n",
       "        vertical-align: top;\n",
       "    }\n",
       "\n",
       "    .dataframe thead th {\n",
       "        text-align: right;\n",
       "    }\n",
       "</style>\n",
       "<table border=\"1\" class=\"dataframe\">\n",
       "  <thead>\n",
       "    <tr style=\"text-align: right;\">\n",
       "      <th></th>\n",
       "      <th>left_side</th>\n",
       "      <th>right_side</th>\n",
       "      <th>similairity</th>\n",
       "    </tr>\n",
       "  </thead>\n",
       "  <tbody>\n",
       "    <tr>\n",
       "      <th>6651</th>\n",
       "      <td>Bridge Capital Llc</td>\n",
       "      <td>Red Bridge Capital Llc</td>\n",
       "      <td>0.821499</td>\n",
       "    </tr>\n",
       "    <tr>\n",
       "      <th>91254</th>\n",
       "      <td>Ares Xxxviii Clo Ltd</td>\n",
       "      <td>Ares Xxvii Clo Ltd</td>\n",
       "      <td>0.826063</td>\n",
       "    </tr>\n",
       "    <tr>\n",
       "      <th>77982</th>\n",
       "      <td>Anderson Mountain View Clo Ii Llc</td>\n",
       "      <td>Mountain View Clo Ii Ltd</td>\n",
       "      <td>0.839370</td>\n",
       "    </tr>\n",
       "    <tr>\n",
       "      <th>78155</th>\n",
       "      <td>Anderson Richard H</td>\n",
       "      <td>Anderson Richard P</td>\n",
       "      <td>0.853711</td>\n",
       "    </tr>\n",
       "    <tr>\n",
       "      <th>72084</th>\n",
       "      <td>American Wholesale Insurance Holding Co Llc</td>\n",
       "      <td>American Wholesale Insurance Holdings Co Llc</td>\n",
       "      <td>0.935703</td>\n",
       "    </tr>\n",
       "    <tr>\n",
       "      <th>18420</th>\n",
       "      <td>Account Portfolios Inc</td>\n",
       "      <td>Account Portfolios Lp</td>\n",
       "      <td>0.852561</td>\n",
       "    </tr>\n",
       "    <tr>\n",
       "      <th>96326</th>\n",
       "      <td>Asgi Multi Strategy Asp Fund A Series Of Alter...</td>\n",
       "      <td>York Multi Strategy Ii Asp Fund A Series Of Al...</td>\n",
       "      <td>0.820102</td>\n",
       "    </tr>\n",
       "    <tr>\n",
       "      <th>2836</th>\n",
       "      <td>Innovations Inc</td>\n",
       "      <td>Eco Innovations Inc</td>\n",
       "      <td>0.837762</td>\n",
       "    </tr>\n",
       "    <tr>\n",
       "      <th>55917</th>\n",
       "      <td>Alexander Michelle Austin</td>\n",
       "      <td>Alexander Michelle A</td>\n",
       "      <td>0.857885</td>\n",
       "    </tr>\n",
       "    <tr>\n",
       "      <th>25134</th>\n",
       "      <td>Advanced Nutraceuticals Inc Tx</td>\n",
       "      <td>Advanced Nutraceuticals Inc</td>\n",
       "      <td>0.927130</td>\n",
       "    </tr>\n",
       "    <tr>\n",
       "      <th>76720</th>\n",
       "      <td>Anderson David C</td>\n",
       "      <td>Anderson David A</td>\n",
       "      <td>0.843480</td>\n",
       "    </tr>\n",
       "    <tr>\n",
       "      <th>95798</th>\n",
       "      <td>Ascend Legend Fund Lp</td>\n",
       "      <td>Ascend Legend Fund Ltd</td>\n",
       "      <td>0.948440</td>\n",
       "    </tr>\n",
       "    <tr>\n",
       "      <th>23838</th>\n",
       "      <td>Adrian Resources Ltd</td>\n",
       "      <td>Darian Resources Ltd</td>\n",
       "      <td>0.825409</td>\n",
       "    </tr>\n",
       "    <tr>\n",
       "      <th>98937</th>\n",
       "      <td>Associates     Holdings Llc</td>\n",
       "      <td>Group   Associates Holdings Llc</td>\n",
       "      <td>0.822572</td>\n",
       "    </tr>\n",
       "    <tr>\n",
       "      <th>8549</th>\n",
       "      <td>Investment Fund I Llc</td>\n",
       "      <td>Mc Investment Fund I Llc</td>\n",
       "      <td>0.815006</td>\n",
       "    </tr>\n",
       "    <tr>\n",
       "      <th>58141</th>\n",
       "      <td>Allen Stephen</td>\n",
       "      <td>Callen Stephen J</td>\n",
       "      <td>0.807035</td>\n",
       "    </tr>\n",
       "    <tr>\n",
       "      <th>81319</th>\n",
       "      <td>Angellist Mass   Fund A Series Of Angellist Bw...</td>\n",
       "      <td>Angellist Rnse Pr Fund A Series Of Angellist B...</td>\n",
       "      <td>0.802780</td>\n",
       "    </tr>\n",
       "    <tr>\n",
       "      <th>26736</th>\n",
       "      <td>Advent Latin American Private Equity Fund Vi B...</td>\n",
       "      <td>Advent Latin American Private Equity Fund Vi A...</td>\n",
       "      <td>0.854275</td>\n",
       "    </tr>\n",
       "    <tr>\n",
       "      <th>91025</th>\n",
       "      <td>Ares Management Llc</td>\n",
       "      <td>Ares Management Inc</td>\n",
       "      <td>0.836028</td>\n",
       "    </tr>\n",
       "    <tr>\n",
       "      <th>66194</th>\n",
       "      <td>Altima Latin America Fund Lp</td>\n",
       "      <td>Altima Latin America Fund Ltd</td>\n",
       "      <td>0.955329</td>\n",
       "    </tr>\n",
       "  </tbody>\n",
       "</table>\n",
       "</div>"
      ],
      "text/plain": [
       "                                               left_side  \\\n",
       "6651                                  Bridge Capital Llc   \n",
       "91254                              Ares Xxxviii Clo Ltd    \n",
       "77982                  Anderson Mountain View Clo Ii Llc   \n",
       "78155                                 Anderson Richard H   \n",
       "72084        American Wholesale Insurance Holding Co Llc   \n",
       "18420                             Account Portfolios Inc   \n",
       "96326  Asgi Multi Strategy Asp Fund A Series Of Alter...   \n",
       "2836                                    Innovations Inc    \n",
       "55917                          Alexander Michelle Austin   \n",
       "25134                     Advanced Nutraceuticals Inc Tx   \n",
       "76720                                   Anderson David C   \n",
       "95798                              Ascend Legend Fund Lp   \n",
       "23838                               Adrian Resources Ltd   \n",
       "98937                        Associates     Holdings Llc   \n",
       "8549                               Investment Fund I Llc   \n",
       "58141                                      Allen Stephen   \n",
       "81319  Angellist Mass   Fund A Series Of Angellist Bw...   \n",
       "26736  Advent Latin American Private Equity Fund Vi B...   \n",
       "91025                                Ares Management Llc   \n",
       "66194                       Altima Latin America Fund Lp   \n",
       "\n",
       "                                              right_side  similairity  \n",
       "6651                              Red Bridge Capital Llc     0.821499  \n",
       "91254                                Ares Xxvii Clo Ltd      0.826063  \n",
       "77982                           Mountain View Clo Ii Ltd     0.839370  \n",
       "78155                                 Anderson Richard P     0.853711  \n",
       "72084       American Wholesale Insurance Holdings Co Llc     0.935703  \n",
       "18420                              Account Portfolios Lp     0.852561  \n",
       "96326  York Multi Strategy Ii Asp Fund A Series Of Al...     0.820102  \n",
       "2836                                 Eco Innovations Inc     0.837762  \n",
       "55917                               Alexander Michelle A     0.857885  \n",
       "25134                        Advanced Nutraceuticals Inc     0.927130  \n",
       "76720                                   Anderson David A     0.843480  \n",
       "95798                            Ascend Legend Fund Ltd      0.948440  \n",
       "23838                               Darian Resources Ltd     0.825409  \n",
       "98937                    Group   Associates Holdings Llc     0.822572  \n",
       "8549                            Mc Investment Fund I Llc     0.815006  \n",
       "58141                                   Callen Stephen J     0.807035  \n",
       "81319  Angellist Rnse Pr Fund A Series Of Angellist B...     0.802780  \n",
       "26736  Advent Latin American Private Equity Fund Vi A...     0.854275  \n",
       "91025                                Ares Management Inc     0.836028  \n",
       "66194                      Altima Latin America Fund Ltd     0.955329  "
      ]
     },
     "execution_count": 43,
     "metadata": {},
     "output_type": "execute_result"
    }
   ],
   "source": [
    "matches_df = get_matches_df(matches, company_names, top=100000)\n",
    "matches_df = matches_df[matches_df['similairity'] < 0.99999] # Remove all exact matches\n",
    "matches_df.sample(20)"
   ]
  },
  {
   "cell_type": "markdown",
   "metadata": {},
   "source": [
    "The matches look pretty good. The cossine similarity gives a good indication of the similarity between the two company names. Allen Stephen and Callen Stephen J are probably not the same company, and the similarity measure of 0.81 reflects this."
   ]
  },
  {
   "cell_type": "code",
   "execution_count": 44,
   "metadata": {
    "scrolled": false
   },
   "outputs": [
    {
     "data": {
      "text/html": [
       "<div>\n",
       "<style scoped>\n",
       "    .dataframe tbody tr th:only-of-type {\n",
       "        vertical-align: middle;\n",
       "    }\n",
       "\n",
       "    .dataframe tbody tr th {\n",
       "        vertical-align: top;\n",
       "    }\n",
       "\n",
       "    .dataframe thead th {\n",
       "        text-align: right;\n",
       "    }\n",
       "</style>\n",
       "<table border=\"1\" class=\"dataframe\">\n",
       "  <thead>\n",
       "    <tr style=\"text-align: right;\">\n",
       "      <th></th>\n",
       "      <th>left_side</th>\n",
       "      <th>right_side</th>\n",
       "      <th>similairity</th>\n",
       "    </tr>\n",
       "  </thead>\n",
       "  <tbody>\n",
       "    <tr>\n",
       "      <th>82688</th>\n",
       "      <td>Angle Light Capital Lp Angle Light Capital Qua...</td>\n",
       "      <td>Angle Light Capital Lp Angle Light Capital Qua...</td>\n",
       "      <td>0.995129</td>\n",
       "    </tr>\n",
       "    <tr>\n",
       "      <th>82685</th>\n",
       "      <td>Angle Light Capital Lp Angle Light Capital Qua...</td>\n",
       "      <td>Angle Light Capital Lp Angle Light Capital Qua...</td>\n",
       "      <td>0.995129</td>\n",
       "    </tr>\n",
       "    <tr>\n",
       "      <th>82557</th>\n",
       "      <td>Angelmd Syndicate Llc Aluminum Series Syndicat...</td>\n",
       "      <td>Angelmd Syndicate Llc Aluminum Series Syndicat...</td>\n",
       "      <td>0.994935</td>\n",
       "    </tr>\n",
       "    <tr>\n",
       "      <th>82572</th>\n",
       "      <td>Angelmd Syndicate Llc Aluminum Series Syndicat...</td>\n",
       "      <td>Angelmd Syndicate Llc Aluminum Series Syndicat...</td>\n",
       "      <td>0.994935</td>\n",
       "    </tr>\n",
       "    <tr>\n",
       "      <th>73493</th>\n",
       "      <td>Ameriquest Mortgage Securities Inc Asset Backe...</td>\n",
       "      <td>Ameriquest Mortgage Securities Inc Asset Backe...</td>\n",
       "      <td>0.990337</td>\n",
       "    </tr>\n",
       "    <tr>\n",
       "      <th>73492</th>\n",
       "      <td>Ameriquest Mortgage Securities Inc Asset Backe...</td>\n",
       "      <td>Ameriquest Mortgage Securities Inc Asset Backe...</td>\n",
       "      <td>0.990337</td>\n",
       "    </tr>\n",
       "    <tr>\n",
       "      <th>73491</th>\n",
       "      <td>Ameriquest Mortgage Securities Inc Asset Backe...</td>\n",
       "      <td>Ameriquest Mortgage Securities Inc Asset Backe...</td>\n",
       "      <td>0.990337</td>\n",
       "    </tr>\n",
       "    <tr>\n",
       "      <th>73490</th>\n",
       "      <td>Ameriquest Mortgage Securities Inc Asset Backe...</td>\n",
       "      <td>Ameriquest Mortgage Securities Inc Asset Backe...</td>\n",
       "      <td>0.990337</td>\n",
       "    </tr>\n",
       "    <tr>\n",
       "      <th>73489</th>\n",
       "      <td>Ameriquest Mortgage Securities Inc Asset Backe...</td>\n",
       "      <td>Ameriquest Mortgage Securities Inc Asset Backe...</td>\n",
       "      <td>0.990337</td>\n",
       "    </tr>\n",
       "    <tr>\n",
       "      <th>73476</th>\n",
       "      <td>Ameriquest Mortgage Securities Inc Asset Backe...</td>\n",
       "      <td>Ameriquest Mortgage Securities Inc Asset Backe...</td>\n",
       "      <td>0.990337</td>\n",
       "    </tr>\n",
       "  </tbody>\n",
       "</table>\n",
       "</div>"
      ],
      "text/plain": [
       "                                               left_side  \\\n",
       "82688  Angle Light Capital Lp Angle Light Capital Qua...   \n",
       "82685  Angle Light Capital Lp Angle Light Capital Qua...   \n",
       "82557  Angelmd Syndicate Llc Aluminum Series Syndicat...   \n",
       "82572  Angelmd Syndicate Llc Aluminum Series Syndicat...   \n",
       "73493  Ameriquest Mortgage Securities Inc Asset Backe...   \n",
       "73492  Ameriquest Mortgage Securities Inc Asset Backe...   \n",
       "73491  Ameriquest Mortgage Securities Inc Asset Backe...   \n",
       "73490  Ameriquest Mortgage Securities Inc Asset Backe...   \n",
       "73489  Ameriquest Mortgage Securities Inc Asset Backe...   \n",
       "73476  Ameriquest Mortgage Securities Inc Asset Backe...   \n",
       "\n",
       "                                              right_side  similairity  \n",
       "82688  Angle Light Capital Lp Angle Light Capital Qua...     0.995129  \n",
       "82685  Angle Light Capital Lp Angle Light Capital Qua...     0.995129  \n",
       "82557  Angelmd Syndicate Llc Aluminum Series Syndicat...     0.994935  \n",
       "82572  Angelmd Syndicate Llc Aluminum Series Syndicat...     0.994935  \n",
       "73493  Ameriquest Mortgage Securities Inc Asset Backe...     0.990337  \n",
       "73492  Ameriquest Mortgage Securities Inc Asset Backe...     0.990337  \n",
       "73491  Ameriquest Mortgage Securities Inc Asset Backe...     0.990337  \n",
       "73490  Ameriquest Mortgage Securities Inc Asset Backe...     0.990337  \n",
       "73489  Ameriquest Mortgage Securities Inc Asset Backe...     0.990337  \n",
       "73476  Ameriquest Mortgage Securities Inc Asset Backe...     0.990337  "
      ]
     },
     "execution_count": 44,
     "metadata": {},
     "output_type": "execute_result"
    }
   ],
   "source": [
    "matches_df.sort_values(['similairity'], ascending=False).head(10)"
   ]
  },
  {
   "cell_type": "markdown",
   "metadata": {},
   "source": [
    "## fuzzywuzzy\n",
    "\n",
    "FuzzyWuzzy is a library of Python which is used for string matching. Fuzzy string matching is the process of finding strings that match a given pattern. Basically it uses Levenshtein Distance to calculate the differences between sequences.\n",
    "\n",
    "Levenshtein distance is a string metric for measuring the difference between two sequences. Informally, the Levenshtein distance between two words is the minimum number of single-character edits (insertions, deletions or substitutions) required to change one word into the other."
   ]
  },
  {
   "cell_type": "code",
   "execution_count": 57,
   "metadata": {},
   "outputs": [],
   "source": [
    "from fuzzywuzzy import fuzz\n",
    "from fuzzywuzzy import process"
   ]
  },
  {
   "cell_type": "code",
   "execution_count": 62,
   "metadata": {},
   "outputs": [
    {
     "data": {
      "text/html": [
       "<div>\n",
       "<style scoped>\n",
       "    .dataframe tbody tr th:only-of-type {\n",
       "        vertical-align: middle;\n",
       "    }\n",
       "\n",
       "    .dataframe tbody tr th {\n",
       "        vertical-align: top;\n",
       "    }\n",
       "\n",
       "    .dataframe thead th {\n",
       "        text-align: right;\n",
       "    }\n",
       "</style>\n",
       "<table border=\"1\" class=\"dataframe\">\n",
       "  <thead>\n",
       "    <tr style=\"text-align: right;\">\n",
       "      <th></th>\n",
       "      <th>Line Number</th>\n",
       "      <th>Company Name</th>\n",
       "      <th>Company CIK Key</th>\n",
       "      <th>Cleaned Company Name</th>\n",
       "    </tr>\n",
       "  </thead>\n",
       "  <tbody>\n",
       "    <tr>\n",
       "      <th>0</th>\n",
       "      <td>1</td>\n",
       "      <td>!J INC</td>\n",
       "      <td>1438823</td>\n",
       "      <td>J Inc</td>\n",
       "    </tr>\n",
       "    <tr>\n",
       "      <th>1</th>\n",
       "      <td>2</td>\n",
       "      <td>#1 A LIFESAFER HOLDINGS, INC.</td>\n",
       "      <td>1509607</td>\n",
       "      <td>A Lifesafer Holdings Inc</td>\n",
       "    </tr>\n",
       "    <tr>\n",
       "      <th>2</th>\n",
       "      <td>3</td>\n",
       "      <td>#1 ARIZONA DISCOUNT PROPERTIES LLC</td>\n",
       "      <td>1457512</td>\n",
       "      <td>Arizona Discount Properties Llc</td>\n",
       "    </tr>\n",
       "    <tr>\n",
       "      <th>3</th>\n",
       "      <td>4</td>\n",
       "      <td>#1 PAINTBALL CORP</td>\n",
       "      <td>1433777</td>\n",
       "      <td>Paintball Corp</td>\n",
       "    </tr>\n",
       "    <tr>\n",
       "      <th>4</th>\n",
       "      <td>5</td>\n",
       "      <td>$ LLC</td>\n",
       "      <td>1427189</td>\n",
       "      <td>Llc</td>\n",
       "    </tr>\n",
       "  </tbody>\n",
       "</table>\n",
       "</div>"
      ],
      "text/plain": [
       "   Line Number                        Company Name  Company CIK Key  \\\n",
       "0            1                              !J INC          1438823   \n",
       "1            2       #1 A LIFESAFER HOLDINGS, INC.          1509607   \n",
       "2            3  #1 ARIZONA DISCOUNT PROPERTIES LLC          1457512   \n",
       "3            4                   #1 PAINTBALL CORP          1433777   \n",
       "4            5                               $ LLC          1427189   \n",
       "\n",
       "                 Cleaned Company Name  \n",
       "0                               J Inc  \n",
       "1           A Lifesafer Holdings Inc   \n",
       "2     Arizona Discount Properties Llc  \n",
       "3                      Paintball Corp  \n",
       "4                                 Llc  "
      ]
     },
     "execution_count": 62,
     "metadata": {},
     "output_type": "execute_result"
    }
   ],
   "source": [
    "df.head()"
   ]
  },
  {
   "cell_type": "code",
   "execution_count": 67,
   "metadata": {},
   "outputs": [
    {
     "data": {
      "text/plain": [
       "57"
      ]
     },
     "execution_count": 67,
     "metadata": {},
     "output_type": "execute_result"
    }
   ],
   "source": [
    "fuzz.ratio('ZZ GLOBAL LLC', 'ZZX, LLC')"
   ]
  },
  {
   "cell_type": "code",
   "execution_count": 68,
   "metadata": {},
   "outputs": [
    {
     "data": {
      "text/plain": [
       "50"
      ]
     },
     "execution_count": 68,
     "metadata": {},
     "output_type": "execute_result"
    }
   ],
   "source": [
    "fuzz.partial_ratio('ZZ GLOBAL LLC', 'ZZX, LLC')"
   ]
  },
  {
   "cell_type": "code",
   "execution_count": 69,
   "metadata": {},
   "outputs": [
    {
     "data": {
      "text/plain": [
       "60"
      ]
     },
     "execution_count": 69,
     "metadata": {},
     "output_type": "execute_result"
    }
   ],
   "source": [
    "fuzz.token_sort_ratio('ZZ GLOBAL LLC', 'ZZX, LLC')"
   ]
  },
  {
   "cell_type": "code",
   "execution_count": 78,
   "metadata": {},
   "outputs": [
    {
     "name": "stdout",
     "output_type": "stream",
     "text": [
      "        Line Number           Company Name  Company CIK Key  \\\n",
      "1178           1179  184 INNOVATIONS, INC.          1697189   \n",
      "194355       194356   EV INNOVATIONS, INC.          1141263   \n",
      "271494       271495   HC INNOVATIONS, INC.          1370512   \n",
      "310257       310258   J2 INNOVATIONS, INC.          1612628   \n",
      "362424       362425     LP INNOVATIONS INC          1207856   \n",
      "\n",
      "       Cleaned Company Name  \n",
      "1178       Innovations Inc   \n",
      "194355  Ev Innovations Inc   \n",
      "271494  Hc Innovations Inc   \n",
      "310257  J  Innovations Inc   \n",
      "362424   Lp Innovations Inc  \n",
      "61.28258681297302\n"
     ]
    }
   ],
   "source": [
    "def get_ratio(row):\n",
    "    name = row['Cleaned Company Name']\n",
    "    return fuzz.token_sort_ratio(name, \"Innovations Inc\")\n",
    "\n",
    "t1 = time.time()\n",
    "print(df[df.apply(get_ratio, axis=1) > 90])\n",
    "print('time', time.time()-t1)"
   ]
  },
  {
   "cell_type": "markdown",
   "metadata": {},
   "source": [
    "We see that fuzz_wuzzy takes a lot of time when iterate over the whole array of names comparing to their TFIDF features with cosine similarity"
   ]
  },
  {
   "cell_type": "markdown",
   "metadata": {},
   "source": [
    "### Scaling\n",
    "The method described above can be scaled to much larger datasets by using a distributed computing environment such as Apache Spark."
   ]
  },
  {
   "cell_type": "markdown",
   "metadata": {},
   "source": [
    "References:\n",
    "\n",
    "- Super Fast String Matching in Python \n",
    "https://bergvca.github.io/2017/10/14/super-fast-string-matching.html\n",
    "   \n",
    "- Machine Learning :: Cosine Similarity for Vector Space Models\n",
    "https://blog.christianperone.com/2013/09/machine-learning-cosine-similarity-for-vector-space-models-part-iii/"
   ]
  }
 ],
 "metadata": {
  "kernelspec": {
   "display_name": "Python 3",
   "language": "python",
   "name": "python3"
  },
  "language_info": {
   "codemirror_mode": {
    "name": "ipython",
    "version": 3
   },
   "file_extension": ".py",
   "mimetype": "text/x-python",
   "name": "python",
   "nbconvert_exporter": "python",
   "pygments_lexer": "ipython3",
   "version": "3.6.9"
  }
 },
 "nbformat": 4,
 "nbformat_minor": 4
}
